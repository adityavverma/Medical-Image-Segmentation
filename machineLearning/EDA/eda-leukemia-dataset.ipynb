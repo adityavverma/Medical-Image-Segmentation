{
 "cells": [
  {
   "cell_type": "markdown",
   "metadata": {
    "papermill": {
     "duration": 0.0107,
     "end_time": "2023-02-05T09:24:20.436542",
     "exception": false,
     "start_time": "2023-02-05T09:24:20.425842",
     "status": "completed"
    },
    "tags": []
   },
   "source": [
    "# Leukemia Dataset\n",
    "Acute lymphoblastic leukemia (ALL) constitutes approximately 25% of the pediatric cancers. In general, the task of identifying immature leukemic blasts from normal cells under the microscope is challenging because morphologically the images of the two cells appear similar.\n",
    "## Composition\n",
    "Train set composition:\n",
    "\n",
    "Total subjects: 73, ALL (cancer): 47, Normal: 26\n",
    "\n",
    "Total cell images: 10,661, ALL(cancer): 7272, Normal: 3389\n",
    "\n",
    "Preliminary test set composition:\n",
    "\n",
    "Total subjects: 28, ALL (cancer): 13, Normal: 15\n",
    "\n",
    "Total cell images: 1867, ALL(cancer): 1219, Normal: 648\n",
    "\n",
    "Final test set composition:\n",
    "\n",
    "Total subjects: 17, ALL (cancer): 9, Normal: 8\n",
    "\n",
    "Total cell images: 2586"
   ]
  },
  {
   "cell_type": "markdown",
   "metadata": {
    "papermill": {
     "duration": 0.007431,
     "end_time": "2023-02-05T09:24:20.451649",
     "exception": false,
     "start_time": "2023-02-05T09:24:20.444218",
     "status": "completed"
    },
    "tags": []
   },
   "source": [
    "**IMPORT LIBRARIES**"
   ]
  },
  {
   "cell_type": "code",
   "execution_count": 1,
   "metadata": {
    "_cell_guid": "79c7e3d0-c299-4dcb-8224-4455121ee9b0",
    "_uuid": "d629ff2d2480ee46fbb7e2d37f6b5fab8052498a",
    "execution": {
     "iopub.execute_input": "2023-02-05T09:24:20.475613Z",
     "iopub.status.busy": "2023-02-05T09:24:20.474935Z",
     "iopub.status.idle": "2023-02-05T09:24:26.349164Z",
     "shell.execute_reply": "2023-02-05T09:24:26.348609Z",
     "shell.execute_reply.started": "2023-02-05T09:08:57.914937Z"
    },
    "papermill": {
     "duration": 5.889772,
     "end_time": "2023-02-05T09:24:26.349323",
     "exception": false,
     "start_time": "2023-02-05T09:24:20.459551",
     "status": "completed"
    },
    "tags": []
   },
   "outputs": [],
   "source": [
    "import numpy as np\n",
    "import pandas as pd\n",
    "import matplotlib.pyplot as plt\n",
    "import tensorflow\n",
    "import os\n",
    "import tqdm\n",
    "import skimage.io\n",
    "import glob\n",
    "\n",
    "from tqdm import tqdm\n",
    "\n",
    "from skimage.io import imread, imshow\n",
    "from skimage.transform import resize\n",
    "\n",
    "from sklearn.utils import shuffle\n",
    "import seaborn as sns\n",
    "%matplotlib inline"
   ]
  },
  {
   "cell_type": "markdown",
   "metadata": {
    "papermill": {
     "duration": 0.007042,
     "end_time": "2023-02-05T09:24:26.363788",
     "exception": false,
     "start_time": "2023-02-05T09:24:26.356746",
     "status": "completed"
    },
    "tags": []
   },
   "source": [
    "**IMPORT / VIEWING / PREPROCESSING DATASET**"
   ]
  },
  {
   "cell_type": "code",
   "execution_count": 2,
   "metadata": {
    "execution": {
     "iopub.execute_input": "2023-02-05T09:24:26.383316Z",
     "iopub.status.busy": "2023-02-05T09:24:26.382787Z",
     "iopub.status.idle": "2023-02-05T09:24:26.946625Z",
     "shell.execute_reply": "2023-02-05T09:24:26.945877Z",
     "shell.execute_reply.started": "2023-02-05T09:09:00.373973Z"
    },
    "papermill": {
     "duration": 0.575396,
     "end_time": "2023-02-05T09:24:26.946793",
     "exception": false,
     "start_time": "2023-02-05T09:24:26.371397",
     "status": "completed"
    },
    "tags": []
   },
   "outputs": [],
   "source": [
    "# Reading Data\n",
    "\n",
    "train_dataset_0_all = glob.glob('../input/leukemia-classification/C-NMC_Leukemia/training_data/fold_0/all/*.bmp')\n",
    "train_dataset_0_hem = glob.glob('../input/leukemia-classification/C-NMC_Leukemia/training_data/fold_0/hem/*.bmp')\n",
    "train_dataset_1_all = glob.glob('../input/leukemia-classification/C-NMC_Leukemia/training_data/fold_1/all/*.bmp')\n",
    "train_dataset_1_hem = glob.glob('../input/leukemia-classification/C-NMC_Leukemia/training_data/fold_1/hem/*.bmp')\n",
    "train_dataset_2_all = glob.glob('../input/leukemia-classification/C-NMC_Leukemia/training_data/fold_2/all/*.bmp')\n",
    "train_dataset_2_hem = glob.glob('../input/leukemia-classification/C-NMC_Leukemia/training_data/fold_2/hem/*.bmp')\n",
    "\n",
    "#test_dataset  = glob.glob('../input/leukemia-classification/C-NMC_Leukemia/testing_data/C-NMC_test_final_phase_data/*.bmp')\n",
    "#valid_dataset = glob.glob('../input/leukemia-classification/C-NMC_Leukemia/validation_data/C-NMC_test_prelim_phase_data/*.bmp')\n",
    "\n",
    "valid_data    = pd.read_csv('../input/leukemia-classification/C-NMC_Leukemia/validation_data/C-NMC_test_prelim_phase_data_labels.csv')"
   ]
  },
  {
   "cell_type": "markdown",
   "metadata": {
    "papermill": {
     "duration": 0.007267,
     "end_time": "2023-02-05T09:24:26.961490",
     "exception": false,
     "start_time": "2023-02-05T09:24:26.954223",
     "status": "completed"
    },
    "tags": []
   },
   "source": [
    "**DATA PREPROCESSING**"
   ]
  },
  {
   "cell_type": "code",
   "execution_count": 3,
   "metadata": {
    "execution": {
     "iopub.execute_input": "2023-02-05T09:24:26.987897Z",
     "iopub.status.busy": "2023-02-05T09:24:26.987037Z",
     "iopub.status.idle": "2023-02-05T09:24:26.994523Z",
     "shell.execute_reply": "2023-02-05T09:24:26.994956Z",
     "shell.execute_reply.started": "2023-02-05T09:09:02.599359Z"
    },
    "papermill": {
     "duration": 0.026364,
     "end_time": "2023-02-05T09:24:26.995068",
     "exception": false,
     "start_time": "2023-02-05T09:24:26.968704",
     "status": "completed"
    },
    "tags": []
   },
   "outputs": [
    {
     "data": {
      "text/plain": [
       "(7272, 3389)"
      ]
     },
     "execution_count": 3,
     "metadata": {},
     "output_type": "execute_result"
    }
   ],
   "source": [
    "A = []\n",
    "H = []\n",
    "\n",
    "A.extend(train_dataset_0_all)\n",
    "A.extend(train_dataset_1_all)\n",
    "A.extend(train_dataset_2_all)\n",
    "\n",
    "H.extend(train_dataset_0_hem)\n",
    "H.extend(train_dataset_1_hem)\n",
    "H.extend(train_dataset_2_hem)\n",
    "\n",
    "A = np.array(A)\n",
    "H = np.array(H)\n",
    "\n",
    "len(A),len(H)"
   ]
  },
  {
   "cell_type": "code",
   "execution_count": 4,
   "metadata": {
    "execution": {
     "iopub.execute_input": "2023-02-05T09:24:27.016361Z",
     "iopub.status.busy": "2023-02-05T09:24:27.015339Z",
     "iopub.status.idle": "2023-02-05T09:24:27.034910Z",
     "shell.execute_reply": "2023-02-05T09:24:27.034499Z",
     "shell.execute_reply.started": "2023-02-05T09:09:59.163936Z"
    },
    "papermill": {
     "duration": 0.032115,
     "end_time": "2023-02-05T09:24:27.035005",
     "exception": false,
     "start_time": "2023-02-05T09:24:27.002890",
     "status": "completed"
    },
    "tags": []
   },
   "outputs": [
    {
     "name": "stderr",
     "output_type": "stream",
     "text": [
      "100%|██████████| 7272/7272 [00:00<00:00, 1711326.86it/s]\n",
      "100%|██████████| 3389/3389 [00:00<00:00, 1140718.74it/s]\n"
     ]
    },
    {
     "data": {
      "text/plain": [
       "(10661,)"
      ]
     },
     "execution_count": 4,
     "metadata": {},
     "output_type": "execute_result"
    }
   ],
   "source": [
    "Label = []\n",
    "\n",
    "for i in tqdm(range(0, len(A))):\n",
    "    Label.append(1)\n",
    "    \n",
    "for i in tqdm(range(0, len(H))):\n",
    "    Label.append(0)\n",
    "    \n",
    "Label = np.array(Label)\n",
    "\n",
    "Label.shape"
   ]
  },
  {
   "cell_type": "code",
   "execution_count": 5,
   "metadata": {
    "execution": {
     "iopub.execute_input": "2023-02-05T09:24:27.060520Z",
     "iopub.status.busy": "2023-02-05T09:24:27.059616Z",
     "iopub.status.idle": "2023-02-05T09:24:31.520537Z",
     "shell.execute_reply": "2023-02-05T09:24:31.520945Z",
     "shell.execute_reply.started": "2023-02-05T09:14:10.604949Z"
    },
    "papermill": {
     "duration": 4.477088,
     "end_time": "2023-02-05T09:24:31.521085",
     "exception": false,
     "start_time": "2023-02-05T09:24:27.043997",
     "status": "completed"
    },
    "tags": []
   },
   "outputs": [
    {
     "name": "stderr",
     "output_type": "stream",
     "text": [
      "100%|██████████| 100/100 [00:02<00:00, 44.50it/s]\n",
      "100%|██████████| 100/100 [00:02<00:00, 45.98it/s]\n"
     ]
    },
    {
     "data": {
      "text/plain": [
       "((200, 128, 128, 3), (200,))"
      ]
     },
     "execution_count": 5,
     "metadata": {},
     "output_type": "execute_result"
    }
   ],
   "source": [
    "X = []\n",
    "Y = []\n",
    "\n",
    "for i in tqdm(range(0, 100)):\n",
    "    img = imread(A[i])\n",
    "    img = resize(img, (128,128))\n",
    "    X.append(img)\n",
    "    Y.append(1)\n",
    "    \n",
    "for i in tqdm(range(0, 100)):\n",
    "    img = imread(H[i])\n",
    "    img = resize(img, (128,128))\n",
    "    X.append(img)\n",
    "    Y.append(0)\n",
    "    \n",
    "    \n",
    "X = np.array(X)\n",
    "Y = np.array(Y)\n",
    "\n",
    "X.shape, Y.shape"
   ]
  },
  {
   "cell_type": "code",
   "execution_count": 6,
   "metadata": {
    "execution": {
     "iopub.execute_input": "2023-02-05T09:24:31.567147Z",
     "iopub.status.busy": "2023-02-05T09:24:31.566539Z",
     "iopub.status.idle": "2023-02-05T09:24:31.587616Z",
     "shell.execute_reply": "2023-02-05T09:24:31.586921Z",
     "shell.execute_reply.started": "2023-02-05T09:14:22.824740Z"
    },
    "papermill": {
     "duration": 0.045811,
     "end_time": "2023-02-05T09:24:31.587785",
     "exception": false,
     "start_time": "2023-02-05T09:24:31.541974",
     "status": "completed"
    },
    "tags": []
   },
   "outputs": [],
   "source": [
    "# Shuffle the data as results are appened.\n",
    "\n",
    "X, Y = shuffle(X, Y, random_state = 42)"
   ]
  },
  {
   "cell_type": "code",
   "execution_count": 7,
   "metadata": {
    "execution": {
     "iopub.execute_input": "2023-02-05T09:24:31.641223Z",
     "iopub.status.busy": "2023-02-05T09:24:31.639744Z",
     "iopub.status.idle": "2023-02-05T09:24:31.885125Z",
     "shell.execute_reply": "2023-02-05T09:24:31.885611Z",
     "shell.execute_reply.started": "2023-02-05T09:14:23.202513Z"
    },
    "papermill": {
     "duration": 0.277772,
     "end_time": "2023-02-05T09:24:31.885743",
     "exception": false,
     "start_time": "2023-02-05T09:24:31.607971",
     "status": "completed"
    },
    "tags": []
   },
   "outputs": [
    {
     "name": "stderr",
     "output_type": "stream",
     "text": [
      "100%|██████████| 5/5 [00:00<00:00, 678.87it/s]\n"
     ]
    },
    {
     "data": {
      "image/png": "[encoded data removed]",
      "text/plain": [
       "<Figure size 1440x1440 with 5 Axes>"
      ]
     },
     "metadata": {
      "needs_background": "light"
     },
     "output_type": "display_data"
    }
   ],
   "source": [
    "# Viewing Image - After Shuffle \n",
    "\n",
    "fig, ax = plt.subplots(nrows = 1, ncols = 5, figsize = (20,20))\n",
    "\n",
    "for i in tqdm(range(0, 5)):\n",
    "    rand = np.random.randint(len(X))\n",
    "    ax[i].imshow(X[rand])\n",
    "    ax[i].axis('off')\n",
    "    a = Y[rand]\n",
    "    if a == 1:\n",
    "        ax[i].set_title('Diseased')\n",
    "    else:\n",
    "        ax[i].set_title('Non_Diseased')"
   ]
  },
  {
   "cell_type": "code",
   "execution_count": 8,
   "metadata": {
    "execution": {
     "iopub.execute_input": "2023-02-05T09:24:31.943301Z",
     "iopub.status.busy": "2023-02-05T09:24:31.942579Z",
     "iopub.status.idle": "2023-02-05T09:24:31.951594Z",
     "shell.execute_reply": "2023-02-05T09:24:31.951143Z",
     "shell.execute_reply.started": "2023-02-05T09:14:34.933045Z"
    },
    "papermill": {
     "duration": 0.042347,
     "end_time": "2023-02-05T09:24:31.951696",
     "exception": false,
     "start_time": "2023-02-05T09:24:31.909349",
     "status": "completed"
    },
    "tags": []
   },
   "outputs": [
    {
     "data": {
      "text/html": [
       "<div>\n",
       "<style scoped>\n",
       "    .dataframe tbody tr th:only-of-type {\n",
       "        vertical-align: middle;\n",
       "    }\n",
       "\n",
       "    .dataframe tbody tr th {\n",
       "        vertical-align: top;\n",
       "    }\n",
       "\n",
       "    .dataframe thead th {\n",
       "        text-align: right;\n",
       "    }\n",
       "</style>\n",
       "<table border=\"1\" class=\"dataframe\">\n",
       "  <thead>\n",
       "    <tr style=\"text-align: right;\">\n",
       "      <th></th>\n",
       "      <th>Patient_ID</th>\n",
       "      <th>new_names</th>\n",
       "      <th>labels</th>\n",
       "    </tr>\n",
       "  </thead>\n",
       "  <tbody>\n",
       "    <tr>\n",
       "      <th>0</th>\n",
       "      <td>UID_57_29_1_all.bmp</td>\n",
       "      <td>1.bmp</td>\n",
       "      <td>1</td>\n",
       "    </tr>\n",
       "    <tr>\n",
       "      <th>1</th>\n",
       "      <td>UID_57_22_2_all.bmp</td>\n",
       "      <td>2.bmp</td>\n",
       "      <td>1</td>\n",
       "    </tr>\n",
       "    <tr>\n",
       "      <th>2</th>\n",
       "      <td>UID_57_31_3_all.bmp</td>\n",
       "      <td>3.bmp</td>\n",
       "      <td>1</td>\n",
       "    </tr>\n",
       "    <tr>\n",
       "      <th>3</th>\n",
       "      <td>UID_H49_35_1_hem.bmp</td>\n",
       "      <td>4.bmp</td>\n",
       "      <td>0</td>\n",
       "    </tr>\n",
       "    <tr>\n",
       "      <th>4</th>\n",
       "      <td>UID_58_6_13_all.bmp</td>\n",
       "      <td>5.bmp</td>\n",
       "      <td>1</td>\n",
       "    </tr>\n",
       "  </tbody>\n",
       "</table>\n",
       "</div>"
      ],
      "text/plain": [
       "             Patient_ID new_names  labels\n",
       "0   UID_57_29_1_all.bmp     1.bmp       1\n",
       "1   UID_57_22_2_all.bmp     2.bmp       1\n",
       "2   UID_57_31_3_all.bmp     3.bmp       1\n",
       "3  UID_H49_35_1_hem.bmp     4.bmp       0\n",
       "4   UID_58_6_13_all.bmp     5.bmp       1"
      ]
     },
     "execution_count": 8,
     "metadata": {},
     "output_type": "execute_result"
    }
   ],
   "source": [
    "valid_data.head()"
   ]
  },
  {
   "cell_type": "code",
   "execution_count": 9,
   "metadata": {
    "execution": {
     "iopub.execute_input": "2023-02-05T09:24:32.091497Z",
     "iopub.status.busy": "2023-02-05T09:24:32.049043Z",
     "iopub.status.idle": "2023-02-05T09:24:32.206571Z",
     "shell.execute_reply": "2023-02-05T09:24:32.207067Z",
     "shell.execute_reply.started": "2023-02-05T09:19:57.479878Z"
    },
    "papermill": {
     "duration": 0.2325,
     "end_time": "2023-02-05T09:24:32.207222",
     "exception": false,
     "start_time": "2023-02-05T09:24:31.974722",
     "status": "completed"
    },
    "tags": []
   },
   "outputs": [
    {
     "name": "stdout",
     "output_type": "stream",
     "text": [
      "Leukemia: 7272\n",
      "Non-Disease: 3389\n"
     ]
    },
    {
     "data": {
      "image/png": "[encoded data removed]",
      "text/plain": [
       "<Figure size 720x576 with 1 Axes>"
      ]
     },
     "metadata": {
      "needs_background": "light"
     },
     "output_type": "display_data"
    }
   ],
   "source": [
    "# Get the counts for each class\n",
    "print(f\"Leukemia: {sum(Label == 1)}\\nNon-Disease: {sum(Label == 0)}\")\n",
    "\n",
    "# Plot the results \n",
    "plt.figure(figsize=(10,8))\n",
    "sns.barplot(x=[\"Leukemia\", \"Non-Disease\"], y=[sum(Label == 1),sum(Label == 0)])\n",
    "plt.title('Number of cases', fontsize=14)\n",
    "plt.xlabel('Case type', fontsize=12)\n",
    "plt.ylabel('Count', fontsize=12)\n",
    "plt.xticks(range(2), [\"Leukemia(1)\", \"Non-Disease(0)\"])\n",
    "plt.show()"
   ]
  }
 ],
 "metadata": {
  "kernelspec": {
   "display_name": "Python 3",
   "language": "python",
   "name": "python3"
  },
  "language_info": {
   "codemirror_mode": {
    "name": "ipython",
    "version": 3
   },
   "file_extension": ".py",
   "mimetype": "text/x-python",
   "name": "python",
   "nbconvert_exporter": "python",
   "pygments_lexer": "ipython3",
   "version": "3.7.6"
  },
  "papermill": {
   "duration": 15.705994,
   "end_time": "2023-02-05T09:24:32.338494",
   "environment_variables": {},
   "exception": null,
   "input_path": "__notebook__.ipynb",
   "output_path": "__notebook__.ipynb",
   "parameters": {},
   "start_time": "2023-02-05T09:24:16.632500",
   "version": "2.1.0"
  }
 },
 "nbformat": 4,
 "nbformat_minor": 4
}
